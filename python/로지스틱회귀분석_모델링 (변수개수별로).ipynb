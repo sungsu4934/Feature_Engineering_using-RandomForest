{
 "cells": [
  {
   "cell_type": "markdown",
   "metadata": {},
   "source": [
    "# Data Preprocessing"
   ]
  },
  {
   "cell_type": "code",
   "execution_count": 1,
   "metadata": {},
   "outputs": [],
   "source": [
    "import pandas as pd\n",
    "import numpy as np"
   ]
  },
  {
   "cell_type": "code",
   "execution_count": 2,
   "metadata": {},
   "outputs": [
    {
     "data": {
      "text/plain": [
       "((56234, 114), (13775, 114))"
      ]
     },
     "execution_count": 2,
     "metadata": {},
     "output_type": "execute_result"
    }
   ],
   "source": [
    "# 데이터 불러오기\n",
    "\n",
    "train_over = pd.read_csv('train_over_A.csv',encoding='CP949')\n",
    "#train_over = pd.read_csv('train_over_B.csv',encoding='CP949')\n",
    "train_over = train_over.iloc[:,1:]\n",
    "\n",
    "test_over = pd.read_csv('test_over_A.csv',encoding='CP949')\n",
    "test_over = test_over.iloc[:,1:]\n",
    "train_over.shape, test_over.shape"
   ]
  },
  {
   "cell_type": "code",
   "execution_count": 3,
   "metadata": {},
   "outputs": [
    {
     "data": {
      "text/plain": [
       "((56234, 17), (13775, 17))"
      ]
     },
     "execution_count": 3,
     "metadata": {},
     "output_type": "execute_result"
    }
   ],
   "source": [
    "train_over = train_over.loc[:,['dv1','dv2','dv4','dv3','dv15','CITY','dv17',\n",
    "                            'M_WK_TIME','dv12','dv8','dv5','dv11','dv7',\n",
    "                            'HW_S_R','dv14','dv20','M_SUI_CON']]\n",
    "\n",
    "test_over = test_over.loc[:,['dv1','dv2','dv4','dv3','dv15','CITY','dv17',\n",
    "                            'M_WK_TIME','dv12','dv8','dv5','dv11','dv7',\n",
    "                            'HW_S_R','dv14','dv20','M_SUI_CON']]\n",
    "\n",
    "\n",
    "train_over.shape, test_over.shape"
   ]
  },
  {
   "cell_type": "code",
   "execution_count": 4,
   "metadata": {},
   "outputs": [
    {
     "name": "stdout",
     "output_type": "stream",
     "text": [
      "경기    12531\n",
      "서울     8747\n",
      "부산     3442\n",
      "경남     3405\n",
      "인천     3154\n",
      "대구     2908\n",
      "경북     2864\n",
      "충남     2621\n",
      "전북     2334\n",
      "충북     2286\n",
      "전남     2281\n",
      "광주     2194\n",
      "대전     2149\n",
      "강원     2033\n",
      "울산     1705\n",
      "제주     1105\n",
      "세종      475\n",
      "Name: CITY, dtype: int64\n",
      "1     12531\n",
      "2      8747\n",
      "3      3442\n",
      "4      3405\n",
      "5      3154\n",
      "7      2908\n",
      "6      2864\n",
      "8      2621\n",
      "10     2334\n",
      "12     2286\n",
      "9      2281\n",
      "11     2194\n",
      "13     2149\n",
      "14     2033\n",
      "15     1705\n",
      "16     1105\n",
      "17      475\n",
      "Name: CITY, dtype: int64\n"
     ]
    }
   ],
   "source": [
    "# 시도[CITY]\n",
    "## 각 도시들을 1~17로 MAPPING \n",
    "print(train_over.loc[:,'CITY'].value_counts())\n",
    "train_over[['CITY']] = train_over[['CITY']].replace({'경기':1, \n",
    "                                     '서울':2,\n",
    "                                     '부산':3,\n",
    "                                     '경남':4,\n",
    "                                     '인천':5,\n",
    "                                     '경북':6,\n",
    "                                     '대구':7,\n",
    "                                     '충남':8,\n",
    "                                     '전남':9,\n",
    "                                     '전북':10,\n",
    "                                     '광주':11,\n",
    "                                     '충북':12,\n",
    "                                     '대전':13,\n",
    "                                     '강원':14,\n",
    "                                     '울산':15,\n",
    "                                     '제주':16,\n",
    "                                     '세종':17})\n",
    "print(train_over.loc[:,'CITY'].value_counts())"
   ]
  },
  {
   "cell_type": "code",
   "execution_count": 5,
   "metadata": {},
   "outputs": [
    {
     "name": "stdout",
     "output_type": "stream",
     "text": [
      "경기    3068\n",
      "서울    2049\n",
      "경남     848\n",
      "부산     819\n",
      "인천     804\n",
      "대구     774\n",
      "경북     665\n",
      "전남     619\n",
      "충남     605\n",
      "전북     583\n",
      "대전     541\n",
      "광주     535\n",
      "강원     513\n",
      "충북     490\n",
      "울산     447\n",
      "제주     290\n",
      "세종     125\n",
      "Name: CITY, dtype: int64\n",
      "1     3068\n",
      "2     2049\n",
      "4      848\n",
      "3      819\n",
      "5      804\n",
      "7      774\n",
      "6      665\n",
      "9      619\n",
      "8      605\n",
      "10     583\n",
      "13     541\n",
      "11     535\n",
      "14     513\n",
      "12     490\n",
      "15     447\n",
      "16     290\n",
      "17     125\n",
      "Name: CITY, dtype: int64\n"
     ]
    }
   ],
   "source": [
    "# 시도[CITY]\n",
    "## 각 도시들을 1~17로 MAPPING \n",
    "print(test_over.loc[:,'CITY'].value_counts())\n",
    "test_over[['CITY']] = test_over[['CITY']].replace({'경기':1, \n",
    "                                     '서울':2,\n",
    "                                     '부산':3,\n",
    "                                     '경남':4,\n",
    "                                     '인천':5,\n",
    "                                     '경북':6,\n",
    "                                     '대구':7,\n",
    "                                     '충남':8,\n",
    "                                     '전남':9,\n",
    "                                     '전북':10,\n",
    "                                     '광주':11,\n",
    "                                     '충북':12,\n",
    "                                     '대전':13,\n",
    "                                     '강원':14,\n",
    "                                     '울산':15,\n",
    "                                     '제주':16,\n",
    "                                     '세종':17})\n",
    "print(test_over.loc[:,'CITY'].value_counts())"
   ]
  },
  {
   "cell_type": "code",
   "execution_count": 6,
   "metadata": {},
   "outputs": [
    {
     "data": {
      "text/plain": [
       "dv1          category\n",
       "dv2          category\n",
       "dv4          category\n",
       "dv3          category\n",
       "dv15         category\n",
       "CITY         category\n",
       "dv17         category\n",
       "M_WK_TIME     float64\n",
       "dv12         category\n",
       "dv8          category\n",
       "dv5          category\n",
       "dv11         category\n",
       "dv7          category\n",
       "HW_S_R       category\n",
       "dv14         category\n",
       "dv20         category\n",
       "M_SUI_CON    category\n",
       "dtype: object"
      ]
     },
     "execution_count": 6,
     "metadata": {},
     "output_type": "execute_result"
    }
   ],
   "source": [
    "# 데이터 팩터화\n",
    "train_over['dv1'] = train_over['dv1'].astype('category')\n",
    "train_over['dv2'] = train_over['dv2'].astype('category')\n",
    "train_over['dv4'] = train_over['dv4'].astype('category')\n",
    "train_over['dv3'] = train_over['dv3'].astype('category')\n",
    "train_over['dv15'] = train_over['dv15'].astype('category')\n",
    "train_over['CITY'] = train_over['CITY'].astype('category')\n",
    "train_over['dv17'] = train_over['dv17'].astype('category')\n",
    "#train_over['M_WK_TIME'] = train_over['M_WK_TIME'].astype('category')\n",
    "train_over['dv12'] = train_over['dv12'].astype('category')\n",
    "train_over['dv8'] = train_over['dv8'].astype('category')\n",
    "train_over['dv5'] = train_over['dv5'].astype('category')\n",
    "train_over['dv11'] = train_over['dv11'].astype('category')\n",
    "train_over['dv7'] = train_over['dv7'].astype('category')\n",
    "train_over['HW_S_R'] = train_over['HW_S_R'].astype('category')\n",
    "train_over['dv14'] = train_over['dv14'].astype('category')\n",
    "train_over['dv20'] = train_over['dv20'].astype('category')\n",
    "train_over['M_SUI_CON'] = train_over['M_SUI_CON'].astype('category')\n",
    "train_over.dtypes"
   ]
  },
  {
   "cell_type": "code",
   "execution_count": 7,
   "metadata": {
    "scrolled": true
   },
   "outputs": [
    {
     "data": {
      "text/plain": [
       "dv1          category\n",
       "dv2          category\n",
       "dv4          category\n",
       "dv3          category\n",
       "dv15         category\n",
       "CITY         category\n",
       "dv17         category\n",
       "M_WK_TIME     float64\n",
       "dv12         category\n",
       "dv8          category\n",
       "dv5          category\n",
       "dv11         category\n",
       "dv7          category\n",
       "HW_S_R       category\n",
       "dv14         category\n",
       "dv20         category\n",
       "M_SUI_CON    category\n",
       "dtype: object"
      ]
     },
     "execution_count": 7,
     "metadata": {},
     "output_type": "execute_result"
    }
   ],
   "source": [
    "# 데이터 팩터화\n",
    "test_over['dv1'] = test_over['dv1'].astype('category')\n",
    "test_over['dv2'] = test_over['dv2'].astype('category')\n",
    "test_over['dv4'] = test_over['dv4'].astype('category')\n",
    "test_over['dv3'] = test_over['dv3'].astype('category')\n",
    "test_over['dv15'] = test_over['dv15'].astype('category')\n",
    "test_over['CITY'] = test_over['CITY'].astype('category')\n",
    "test_over['dv17'] = test_over['dv17'].astype('category')\n",
    "#test_over['M_WK_TIME'] = test_over['M_WK_TIME'].astype('category')\n",
    "test_over['dv12'] = test_over['dv12'].astype('category')\n",
    "test_over['dv8'] = test_over['dv8'].astype('category')\n",
    "test_over['dv5'] = test_over['dv5'].astype('category')\n",
    "test_over['dv11'] = test_over['dv11'].astype('category')\n",
    "test_over['dv7'] = test_over['dv7'].astype('category')\n",
    "test_over['HW_S_R'] = test_over['HW_S_R'].astype('category')\n",
    "test_over['dv14'] = test_over['dv14'].astype('category')\n",
    "test_over['dv20'] = test_over['dv20'].astype('category')\n",
    "test_over['M_SUI_CON'] = test_over['M_SUI_CON'].astype('category')\n",
    "test_over.dtypes"
   ]
  },
  {
   "cell_type": "code",
   "execution_count": 8,
   "metadata": {},
   "outputs": [
    {
     "name": "stdout",
     "output_type": "stream",
     "text": [
      "(56234, 17) (13775, 17)\n",
      "(56234, 17) (13775, 17)\n"
     ]
    }
   ],
   "source": [
    "# 결측치 있는지 확인 --> 결측치 없음\n",
    "print(train_over.shape, test_over.shape)\n",
    "train_over = train_over.dropna(axis=0)\n",
    "test_over = test_over.dropna(axis=0)\n",
    "print(train_over.shape, test_over.shape)"
   ]
  },
  {
   "cell_type": "markdown",
   "metadata": {},
   "source": [
    "# Train/test Split"
   ]
  },
  {
   "cell_type": "code",
   "execution_count": 9,
   "metadata": {},
   "outputs": [
    {
     "name": "stdout",
     "output_type": "stream",
     "text": [
      "(56234, 16) (56234, 1) (13775, 16) (13775, 1)\n"
     ]
    }
   ],
   "source": [
    "'''\n",
    "Train과 Test는 기존 R로 분할을 했었기에\n",
    "X와 Y에 대해서만 분리를 진행한다.\n",
    "'''\n",
    "\n",
    "# Train_over\n",
    "#feature_columns = list(train_over.columns.difference(['M_SUI_CON']))\n",
    "feature_columns = list(train_over.columns[:-1])\n",
    "train_x = train_over[feature_columns]\n",
    "train_y = train_over[['M_SUI_CON']]\n",
    "test_x = test_over[feature_columns]\n",
    "test_y = test_over[['M_SUI_CON']]\n",
    "\n",
    "\n",
    "\n",
    "print(train_x.shape, train_y.shape, test_x.shape, test_y.shape)"
   ]
  },
  {
   "cell_type": "markdown",
   "metadata": {},
   "source": [
    "# Logistic Regression Modeling"
   ]
  },
  {
   "cell_type": "code",
   "execution_count": 10,
   "metadata": {},
   "outputs": [],
   "source": [
    "# 각 지표 구하는 함수 구현\n",
    "from sklearn.metrics import confusion_matrix\n",
    "\n",
    "def model_evaluation(label, predict):\n",
    "    cf_matrix = confusion_matrix(label, predict)\n",
    "    Accuracy = (cf_matrix[0][0] + cf_matrix[1][1]) / sum(sum(cf_matrix))\n",
    "    Precision = cf_matrix[1][1] / (cf_matrix[1][1] + cf_matrix[0][1])\n",
    "    Recall = cf_matrix[1][1] / (cf_matrix[1][1] + cf_matrix[1][0])\n",
    "    Specificity = cf_matrix[0][0] / (cf_matrix[0][0] + cf_matrix[0][1])\n",
    "    F1_Score = (2 * Recall * Precision) / (Recall + Precision)\n",
    "    \n",
    "    return Accuracy, Precision, Recall, Specificity, F1_Score"
   ]
  },
  {
   "cell_type": "code",
   "execution_count": 11,
   "metadata": {},
   "outputs": [
    {
     "data": {
      "text/plain": [
       "16"
      ]
     },
     "execution_count": 11,
     "metadata": {},
     "output_type": "execute_result"
    }
   ],
   "source": [
    "len(feature_columns)"
   ]
  },
  {
   "cell_type": "code",
   "execution_count": 12,
   "metadata": {},
   "outputs": [
    {
     "name": "stderr",
     "output_type": "stream",
     "text": [
      "c:\\users\\sungs\\appdata\\local\\programs\\python\\python38\\lib\\site-packages\\sklearn\\utils\\validation.py:72: DataConversionWarning: A column-vector y was passed when a 1d array was expected. Please change the shape of y to (n_samples, ), for example using ravel().\n",
      "  return f(**kwargs)\n",
      "c:\\users\\sungs\\appdata\\local\\programs\\python\\python38\\lib\\site-packages\\sklearn\\linear_model\\_logistic.py:762: ConvergenceWarning: lbfgs failed to converge (status=1):\n",
      "STOP: TOTAL NO. of ITERATIONS REACHED LIMIT.\n",
      "\n",
      "Increase the number of iterations (max_iter) or scale the data as shown in:\n",
      "    https://scikit-learn.org/stable/modules/preprocessing.html\n",
      "Please also refer to the documentation for alternative solver options:\n",
      "    https://scikit-learn.org/stable/modules/linear_model.html#logistic-regression\n",
      "  n_iter_i = _check_optimize_result(\n",
      "c:\\users\\sungs\\appdata\\local\\programs\\python\\python38\\lib\\site-packages\\sklearn\\utils\\validation.py:72: DataConversionWarning: A column-vector y was passed when a 1d array was expected. Please change the shape of y to (n_samples, ), for example using ravel().\n",
      "  return f(**kwargs)\n"
     ]
    },
    {
     "name": "stdout",
     "output_type": "stream",
     "text": [
      "[[8761 3288]\n",
      " [ 477 1249]]\n",
      "[[8774 3275]\n",
      " [ 488 1238]]\n"
     ]
    },
    {
     "name": "stderr",
     "output_type": "stream",
     "text": [
      "c:\\users\\sungs\\appdata\\local\\programs\\python\\python38\\lib\\site-packages\\sklearn\\utils\\validation.py:72: DataConversionWarning: A column-vector y was passed when a 1d array was expected. Please change the shape of y to (n_samples, ), for example using ravel().\n",
      "  return f(**kwargs)\n"
     ]
    },
    {
     "name": "stdout",
     "output_type": "stream",
     "text": [
      "[[8846 3203]\n",
      " [ 500 1226]]\n"
     ]
    },
    {
     "name": "stderr",
     "output_type": "stream",
     "text": [
      "c:\\users\\sungs\\appdata\\local\\programs\\python\\python38\\lib\\site-packages\\sklearn\\utils\\validation.py:72: DataConversionWarning: A column-vector y was passed when a 1d array was expected. Please change the shape of y to (n_samples, ), for example using ravel().\n",
      "  return f(**kwargs)\n"
     ]
    },
    {
     "name": "stdout",
     "output_type": "stream",
     "text": [
      "[[8820 3229]\n",
      " [ 495 1231]]\n"
     ]
    },
    {
     "name": "stderr",
     "output_type": "stream",
     "text": [
      "c:\\users\\sungs\\appdata\\local\\programs\\python\\python38\\lib\\site-packages\\sklearn\\utils\\validation.py:72: DataConversionWarning: A column-vector y was passed when a 1d array was expected. Please change the shape of y to (n_samples, ), for example using ravel().\n",
      "  return f(**kwargs)\n"
     ]
    },
    {
     "name": "stdout",
     "output_type": "stream",
     "text": [
      "[[8842 3207]\n",
      " [ 495 1231]]\n"
     ]
    },
    {
     "name": "stderr",
     "output_type": "stream",
     "text": [
      "c:\\users\\sungs\\appdata\\local\\programs\\python\\python38\\lib\\site-packages\\sklearn\\utils\\validation.py:72: DataConversionWarning: A column-vector y was passed when a 1d array was expected. Please change the shape of y to (n_samples, ), for example using ravel().\n",
      "  return f(**kwargs)\n"
     ]
    },
    {
     "name": "stdout",
     "output_type": "stream",
     "text": [
      "[[9094 2955]\n",
      " [ 529 1197]]\n"
     ]
    },
    {
     "name": "stderr",
     "output_type": "stream",
     "text": [
      "c:\\users\\sungs\\appdata\\local\\programs\\python\\python38\\lib\\site-packages\\sklearn\\utils\\validation.py:72: DataConversionWarning: A column-vector y was passed when a 1d array was expected. Please change the shape of y to (n_samples, ), for example using ravel().\n",
      "  return f(**kwargs)\n"
     ]
    },
    {
     "name": "stdout",
     "output_type": "stream",
     "text": [
      "[[9109 2940]\n",
      " [ 514 1212]]\n"
     ]
    },
    {
     "name": "stderr",
     "output_type": "stream",
     "text": [
      "c:\\users\\sungs\\appdata\\local\\programs\\python\\python38\\lib\\site-packages\\sklearn\\utils\\validation.py:72: DataConversionWarning: A column-vector y was passed when a 1d array was expected. Please change the shape of y to (n_samples, ), for example using ravel().\n",
      "  return f(**kwargs)\n"
     ]
    },
    {
     "name": "stdout",
     "output_type": "stream",
     "text": [
      "[[9667 2382]\n",
      " [ 590 1136]]\n"
     ]
    },
    {
     "name": "stderr",
     "output_type": "stream",
     "text": [
      "c:\\users\\sungs\\appdata\\local\\programs\\python\\python38\\lib\\site-packages\\sklearn\\utils\\validation.py:72: DataConversionWarning: A column-vector y was passed when a 1d array was expected. Please change the shape of y to (n_samples, ), for example using ravel().\n",
      "  return f(**kwargs)\n"
     ]
    },
    {
     "name": "stdout",
     "output_type": "stream",
     "text": [
      "[[9659 2390]\n",
      " [ 585 1141]]\n"
     ]
    },
    {
     "name": "stderr",
     "output_type": "stream",
     "text": [
      "c:\\users\\sungs\\appdata\\local\\programs\\python\\python38\\lib\\site-packages\\sklearn\\utils\\validation.py:72: DataConversionWarning: A column-vector y was passed when a 1d array was expected. Please change the shape of y to (n_samples, ), for example using ravel().\n",
      "  return f(**kwargs)\n"
     ]
    },
    {
     "name": "stdout",
     "output_type": "stream",
     "text": [
      "[[9647 2402]\n",
      " [ 579 1147]]\n"
     ]
    },
    {
     "name": "stderr",
     "output_type": "stream",
     "text": [
      "c:\\users\\sungs\\appdata\\local\\programs\\python\\python38\\lib\\site-packages\\sklearn\\utils\\validation.py:72: DataConversionWarning: A column-vector y was passed when a 1d array was expected. Please change the shape of y to (n_samples, ), for example using ravel().\n",
      "  return f(**kwargs)\n"
     ]
    },
    {
     "name": "stdout",
     "output_type": "stream",
     "text": [
      "[[9951 2098]\n",
      " [ 759  967]]\n"
     ]
    },
    {
     "name": "stderr",
     "output_type": "stream",
     "text": [
      "c:\\users\\sungs\\appdata\\local\\programs\\python\\python38\\lib\\site-packages\\sklearn\\utils\\validation.py:72: DataConversionWarning: A column-vector y was passed when a 1d array was expected. Please change the shape of y to (n_samples, ), for example using ravel().\n",
      "  return f(**kwargs)\n"
     ]
    },
    {
     "name": "stdout",
     "output_type": "stream",
     "text": [
      "[[9951 2098]\n",
      " [ 759  967]]\n"
     ]
    },
    {
     "name": "stderr",
     "output_type": "stream",
     "text": [
      "c:\\users\\sungs\\appdata\\local\\programs\\python\\python38\\lib\\site-packages\\sklearn\\utils\\validation.py:72: DataConversionWarning: A column-vector y was passed when a 1d array was expected. Please change the shape of y to (n_samples, ), for example using ravel().\n",
      "  return f(**kwargs)\n"
     ]
    },
    {
     "name": "stdout",
     "output_type": "stream",
     "text": [
      "[[6483 5566]\n",
      " [ 715 1011]]\n"
     ]
    },
    {
     "name": "stderr",
     "output_type": "stream",
     "text": [
      "c:\\users\\sungs\\appdata\\local\\programs\\python\\python38\\lib\\site-packages\\sklearn\\utils\\validation.py:72: DataConversionWarning: A column-vector y was passed when a 1d array was expected. Please change the shape of y to (n_samples, ), for example using ravel().\n",
      "  return f(**kwargs)\n"
     ]
    },
    {
     "name": "stdout",
     "output_type": "stream",
     "text": [
      "[[7047 5002]\n",
      " [ 846  880]]\n"
     ]
    },
    {
     "name": "stderr",
     "output_type": "stream",
     "text": [
      "c:\\users\\sungs\\appdata\\local\\programs\\python\\python38\\lib\\site-packages\\sklearn\\utils\\validation.py:72: DataConversionWarning: A column-vector y was passed when a 1d array was expected. Please change the shape of y to (n_samples, ), for example using ravel().\n",
      "  return f(**kwargs)\n",
      "c:\\users\\sungs\\appdata\\local\\programs\\python\\python38\\lib\\site-packages\\sklearn\\utils\\validation.py:72: DataConversionWarning: A column-vector y was passed when a 1d array was expected. Please change the shape of y to (n_samples, ), for example using ravel().\n",
      "  return f(**kwargs)\n"
     ]
    },
    {
     "name": "stdout",
     "output_type": "stream",
     "text": [
      "[[4447 7602]\n",
      " [ 525 1201]]\n",
      "[[4447 7602]\n",
      " [ 525 1201]]\n"
     ]
    }
   ],
   "source": [
    "from sklearn.linear_model import LogisticRegression\n",
    "from sklearn.metrics import roc_auc_score, roc_curve\n",
    "import matplotlib.pyplot as plt\n",
    "\n",
    "performance_df = pd.DataFrame(columns=['feature_num','Accuracy', 'Precision', 'Recall', 'Specificity', 'F1_Score'])\n",
    "\n",
    "\n",
    "\n",
    "for i in range(0, len(feature_columns),1):\n",
    "\n",
    "    train_x_final2 = train_x.loc[:,feature_columns]\n",
    "    train_y_final2 = train_y\n",
    "    test_x_final2 = test_x.loc[:,feature_columns]\n",
    "    test_y_final2 = test_y\n",
    "    #print(train_x_final2.shape, test_x_final2.shape)\n",
    "\n",
    "    log_reg2 = LogisticRegression()\n",
    "    log_reg2.fit(train_x_final2, train_y_final2)\n",
    "\n",
    "    pred_y_final2 = log_reg2.predict(test_x_final2) #test_data넣어보기\n",
    "    pred_y_final2\n",
    "    \n",
    "    print(confusion_matrix(test_y_final2, pred_y_final2))\n",
    "    \n",
    "    feature_num_tmp = len(feature_columns)\n",
    "    accuracy_tmp = model_evaluation(test_y_final2, pred_y_final2)[0]\n",
    "    precision_tmp = model_evaluation(test_y_final2, pred_y_final2)[1]\n",
    "    recall_tmp = model_evaluation(test_y_final2, pred_y_final2)[2]\n",
    "    specificity_tmp = model_evaluation(test_y_final2, pred_y_final2)[3]\n",
    "    f1score_tmp = model_evaluation(test_y_final2, pred_y_final2)[4]\n",
    "    \n",
    "    performance_df = performance_df.append(\n",
    "        pd.DataFrame([[feature_num_tmp, accuracy_tmp, precision_tmp, recall_tmp, specificity_tmp, f1score_tmp]], \n",
    "                   columns=['feature_num','Accuracy', 'Precision', 'Recall', 'Specificity', 'F1_Score']), ignore_index=True)\n",
    "\n",
    "\n",
    "    feature_columns.pop()"
   ]
  },
  {
   "cell_type": "code",
   "execution_count": 14,
   "metadata": {},
   "outputs": [
    {
     "data": {
      "text/html": [
       "<div>\n",
       "<style scoped>\n",
       "    .dataframe tbody tr th:only-of-type {\n",
       "        vertical-align: middle;\n",
       "    }\n",
       "\n",
       "    .dataframe tbody tr th {\n",
       "        vertical-align: top;\n",
       "    }\n",
       "\n",
       "    .dataframe thead th {\n",
       "        text-align: right;\n",
       "    }\n",
       "</style>\n",
       "<table border=\"1\" class=\"dataframe\">\n",
       "  <thead>\n",
       "    <tr style=\"text-align: right;\">\n",
       "      <th></th>\n",
       "      <th>feature_num</th>\n",
       "      <th>Accuracy</th>\n",
       "      <th>Precision</th>\n",
       "      <th>Recall</th>\n",
       "      <th>Specificity</th>\n",
       "      <th>F1_Score</th>\n",
       "    </tr>\n",
       "  </thead>\n",
       "  <tbody>\n",
       "    <tr>\n",
       "      <th>0</th>\n",
       "      <td>1</td>\n",
       "      <td>0.410018</td>\n",
       "      <td>0.136431</td>\n",
       "      <td>0.695829</td>\n",
       "      <td>0.369076</td>\n",
       "      <td>0.228132</td>\n",
       "    </tr>\n",
       "    <tr>\n",
       "      <th>1</th>\n",
       "      <td>2</td>\n",
       "      <td>0.410018</td>\n",
       "      <td>0.136431</td>\n",
       "      <td>0.695829</td>\n",
       "      <td>0.369076</td>\n",
       "      <td>0.228132</td>\n",
       "    </tr>\n",
       "    <tr>\n",
       "      <th>2</th>\n",
       "      <td>3</td>\n",
       "      <td>0.575463</td>\n",
       "      <td>0.149609</td>\n",
       "      <td>0.509849</td>\n",
       "      <td>0.584862</td>\n",
       "      <td>0.231335</td>\n",
       "    </tr>\n",
       "    <tr>\n",
       "      <th>3</th>\n",
       "      <td>4</td>\n",
       "      <td>0.544029</td>\n",
       "      <td>0.153718</td>\n",
       "      <td>0.585747</td>\n",
       "      <td>0.538053</td>\n",
       "      <td>0.243526</td>\n",
       "    </tr>\n",
       "    <tr>\n",
       "      <th>4</th>\n",
       "      <td>5</td>\n",
       "      <td>0.792595</td>\n",
       "      <td>0.315498</td>\n",
       "      <td>0.560255</td>\n",
       "      <td>0.825878</td>\n",
       "      <td>0.403674</td>\n",
       "    </tr>\n",
       "    <tr>\n",
       "      <th>5</th>\n",
       "      <td>6</td>\n",
       "      <td>0.792595</td>\n",
       "      <td>0.315498</td>\n",
       "      <td>0.560255</td>\n",
       "      <td>0.825878</td>\n",
       "      <td>0.403674</td>\n",
       "    </tr>\n",
       "    <tr>\n",
       "      <th>6</th>\n",
       "      <td>7</td>\n",
       "      <td>0.783593</td>\n",
       "      <td>0.323190</td>\n",
       "      <td>0.664542</td>\n",
       "      <td>0.800647</td>\n",
       "      <td>0.434882</td>\n",
       "    </tr>\n",
       "    <tr>\n",
       "      <th>7</th>\n",
       "      <td>8</td>\n",
       "      <td>0.784029</td>\n",
       "      <td>0.323138</td>\n",
       "      <td>0.661066</td>\n",
       "      <td>0.801643</td>\n",
       "      <td>0.434088</td>\n",
       "    </tr>\n",
       "    <tr>\n",
       "      <th>8</th>\n",
       "      <td>9</td>\n",
       "      <td>0.784247</td>\n",
       "      <td>0.322911</td>\n",
       "      <td>0.658169</td>\n",
       "      <td>0.802307</td>\n",
       "      <td>0.433257</td>\n",
       "    </tr>\n",
       "    <tr>\n",
       "      <th>9</th>\n",
       "      <td>10</td>\n",
       "      <td>0.749256</td>\n",
       "      <td>0.291908</td>\n",
       "      <td>0.702202</td>\n",
       "      <td>0.755996</td>\n",
       "      <td>0.412385</td>\n",
       "    </tr>\n",
       "    <tr>\n",
       "      <th>10</th>\n",
       "      <td>11</td>\n",
       "      <td>0.747078</td>\n",
       "      <td>0.288295</td>\n",
       "      <td>0.693511</td>\n",
       "      <td>0.754751</td>\n",
       "      <td>0.407281</td>\n",
       "    </tr>\n",
       "    <tr>\n",
       "      <th>11</th>\n",
       "      <td>12</td>\n",
       "      <td>0.731252</td>\n",
       "      <td>0.277377</td>\n",
       "      <td>0.713210</td>\n",
       "      <td>0.733837</td>\n",
       "      <td>0.399416</td>\n",
       "    </tr>\n",
       "    <tr>\n",
       "      <th>12</th>\n",
       "      <td>13</td>\n",
       "      <td>0.729655</td>\n",
       "      <td>0.276009</td>\n",
       "      <td>0.713210</td>\n",
       "      <td>0.732011</td>\n",
       "      <td>0.397995</td>\n",
       "    </tr>\n",
       "    <tr>\n",
       "      <th>13</th>\n",
       "      <td>14</td>\n",
       "      <td>0.731180</td>\n",
       "      <td>0.276812</td>\n",
       "      <td>0.710313</td>\n",
       "      <td>0.734169</td>\n",
       "      <td>0.398375</td>\n",
       "    </tr>\n",
       "    <tr>\n",
       "      <th>14</th>\n",
       "      <td>15</td>\n",
       "      <td>0.726824</td>\n",
       "      <td>0.274319</td>\n",
       "      <td>0.717265</td>\n",
       "      <td>0.728193</td>\n",
       "      <td>0.396858</td>\n",
       "    </tr>\n",
       "    <tr>\n",
       "      <th>15</th>\n",
       "      <td>16</td>\n",
       "      <td>0.726679</td>\n",
       "      <td>0.275292</td>\n",
       "      <td>0.723638</td>\n",
       "      <td>0.727114</td>\n",
       "      <td>0.398850</td>\n",
       "    </tr>\n",
       "  </tbody>\n",
       "</table>\n",
       "</div>"
      ],
      "text/plain": [
       "   feature_num  Accuracy  Precision    Recall  Specificity  F1_Score\n",
       "0            1  0.410018   0.136431  0.695829     0.369076  0.228132\n",
       "1            2  0.410018   0.136431  0.695829     0.369076  0.228132\n",
       "2            3  0.575463   0.149609  0.509849     0.584862  0.231335\n",
       "3            4  0.544029   0.153718  0.585747     0.538053  0.243526\n",
       "4            5  0.792595   0.315498  0.560255     0.825878  0.403674\n",
       "5            6  0.792595   0.315498  0.560255     0.825878  0.403674\n",
       "6            7  0.783593   0.323190  0.664542     0.800647  0.434882\n",
       "7            8  0.784029   0.323138  0.661066     0.801643  0.434088\n",
       "8            9  0.784247   0.322911  0.658169     0.802307  0.433257\n",
       "9           10  0.749256   0.291908  0.702202     0.755996  0.412385\n",
       "10          11  0.747078   0.288295  0.693511     0.754751  0.407281\n",
       "11          12  0.731252   0.277377  0.713210     0.733837  0.399416\n",
       "12          13  0.729655   0.276009  0.713210     0.732011  0.397995\n",
       "13          14  0.731180   0.276812  0.710313     0.734169  0.398375\n",
       "14          15  0.726824   0.274319  0.717265     0.728193  0.396858\n",
       "15          16  0.726679   0.275292  0.723638     0.727114  0.398850"
      ]
     },
     "execution_count": 14,
     "metadata": {},
     "output_type": "execute_result"
    }
   ],
   "source": [
    "performance_df_sorting = performance_df.sort_values(by='feature_num')\n",
    "performance_df_sorting.reset_index(drop=True, inplace=True)\n",
    "performance_df_sorting"
   ]
  },
  {
   "cell_type": "code",
   "execution_count": null,
   "metadata": {},
   "outputs": [],
   "source": []
  },
  {
   "cell_type": "code",
   "execution_count": null,
   "metadata": {},
   "outputs": [],
   "source": []
  }
 ],
 "metadata": {
  "kernelspec": {
   "display_name": "Python 3",
   "language": "python",
   "name": "python3"
  },
  "language_info": {
   "codemirror_mode": {
    "name": "ipython",
    "version": 3
   },
   "file_extension": ".py",
   "mimetype": "text/x-python",
   "name": "python",
   "nbconvert_exporter": "python",
   "pygments_lexer": "ipython3",
   "version": "3.8.5"
  }
 },
 "nbformat": 4,
 "nbformat_minor": 4
}
